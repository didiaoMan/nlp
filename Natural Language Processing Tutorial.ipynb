{
 "cells": [
  {
   "cell_type": "markdown",
   "metadata": {},
   "source": [
    "[Natural Language Processing Tutorial](http://www.vikparuchuri.com/blog/natural-language-processing-tutorial/)\n",
    "[Spell correct](http://norvig.com/spell-correct.html)"
   ]
  },
  {
   "cell_type": "code",
   "execution_count": 9,
   "metadata": {},
   "outputs": [
    {
     "name": "stdout",
     "output_type": "stream",
     "text": [
      "[['I', 'like', 'solving', 'interesting', 'problems'], ['What', 'is', 'machine', 'learning'], [\"I'm\", 'not', 'sure'], ['Machien', 'lerning', 'predicts', 'eveyrthing']]\n",
      "{'solving', 'predicts', 'eveyrthing', 'not', 'sure', 'machine', 'Machien', 'interesting', 'learning', 'I', 'is', 'lerning', 'What', \"I'm\", 'problems', 'like'}\n",
      "{'solving': [1, 0, 0, 0], 'predicts': [0, 0, 0, 1], 'eveyrthing': [0, 0, 0, 1], 'not': [0, 0, 1, 0], 'sure': [0, 0, 1, 0], 'machine': [0, 1, 0, 0], 'Machien': [0, 0, 0, 1], 'interesting': [1, 0, 0, 0], 'learning': [0, 1, 0, 0], 'I': [1, 0, 0, 0], 'is': [0, 1, 0, 0], 'lerning': [0, 0, 0, 1], 'What': [0, 1, 0, 0], \"I'm\": [0, 0, 1, 0], 'problems': [1, 0, 0, 0], 'like': [1, 0, 0, 0]}\n",
      "====================================================\n",
      "====================================================\n",
      "['solving', 'predicts', 'eveyrthing', 'not', 'sure', 'machine', 'Machien', 'interesting', 'learning', 'I', 'is', 'lerning', 'What', \"I'm\", 'problems', 'like']\n",
      "[(1, 0, 0, 0, 0, 0, 0, 1, 0, 1, 0, 0, 0, 0, 1, 1), (0, 0, 0, 0, 0, 1, 0, 0, 1, 0, 1, 0, 1, 0, 0, 0), (0, 0, 0, 1, 1, 0, 0, 0, 0, 0, 0, 0, 0, 1, 0, 0), (0, 1, 1, 0, 0, 0, 1, 0, 0, 0, 0, 1, 0, 0, 0, 0)]\n"
     ]
    }
   ],
   "source": [
    "# 训练样本X\n",
    "X = [\n",
    "    \"I like solving interesting problems.\",\n",
    "    \"What is machine learning?\",\n",
    "    \"I'm not sure.\",\n",
    "    \"Machien lerning predicts eveyrthing.\"\n",
    "]\n",
    "# 样本相应的评分y\n",
    "y = [2, 0, 1, 0]\n",
    "# step 1: Tokenization 分词\n",
    "\n",
    "# 简单的使用string.split(' ')进行分词\n",
    "# 取出每一个句子，去掉结尾的符号，然后使用' '分割，结果保存下来\n",
    "X_Tokenization = [X[_][:-1].split(' ') for _ in range(len(X))]\n",
    "print(X_Tokenization)\n",
    "\n",
    "# step 2: Bag of words model\n",
    "\n",
    "# 统计所有的词项(term)\n",
    "X_terms = set(X_Tokenization[i][j] for i in range(len(X_Tokenization)) for j in range(len(X_Tokenization[i])))\n",
    "print(X_terms)\n",
    "\n",
    "# 构建代表文档的矩阵\n",
    "list_matrix = {}\n",
    "for term in X_terms:\n",
    "    lst = [X_Tokenization[_].count(term) for _ in range(len(X_Tokenization))]\n",
    "    list_matrix[term] = lst\n",
    "print(list_matrix)\n",
    "print(\"====================================================\")\n",
    "\n",
    "# 再处理\n",
    "terms = list(list_matrix.keys())\n",
    "bag_of_word_mat = list(zip(*(list_matrix[term] for term in terms)))\n",
    "print(\"====================================================\")\n",
    "print(terms)\n",
    "print(bag_of_word_mat)"
   ]
  },
  {
   "cell_type": "code",
   "execution_count": null,
   "metadata": {
    "collapsed": true
   },
   "outputs": [],
   "source": []
  }
 ],
 "metadata": {
  "kernelspec": {
   "display_name": "Python 3",
   "language": "python",
   "name": "python3"
  },
  "language_info": {
   "codemirror_mode": {
    "name": "ipython",
    "version": 3
   },
   "file_extension": ".py",
   "mimetype": "text/x-python",
   "name": "python",
   "nbconvert_exporter": "python",
   "pygments_lexer": "ipython3",
   "version": "3.6.1"
  }
 },
 "nbformat": 4,
 "nbformat_minor": 2
}
